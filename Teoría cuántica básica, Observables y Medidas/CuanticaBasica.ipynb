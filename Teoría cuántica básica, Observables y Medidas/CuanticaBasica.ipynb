{
 "cells": [
  {
   "cell_type": "markdown",
   "metadata": {},
   "source": [
    "# Simule el primer sistema cuántico descrito en la sección 4.1.\n",
    "\n",
    "El sistema consiste en una partícula confinada a un conjunto discreto de posiciones en una línea. El simulador debe permitir especificar el número de posiciones y un vector ket de estado asignando las amplitudes.\n",
    "\n",
    "1. El sistema debe calcular la probabilidad de encontrarlo en una posición en particular.\n",
    "\n",
    "2. El sistema si se le da otro vector Ket debe buscar la probabilidad de transitar del primer vector al segundo."
   ]
  },
  {
   "cell_type": "code",
   "execution_count": null,
   "metadata": {},
   "outputs": [],
   "source": [
    "import numpy as np\n",
    "\n",
    "def normalize_ket(ket):\n",
    "    \"\"\" Normaliza un vector ket.\"\"\"\n",
    "    norm = np.linalg.norm(ket)\n",
    "    return ket / norm if norm != 0 else ket\n",
    "\n",
    "def probability_at_position(ket, position):\n",
    "    \"\"\" Calcula la probabilidad de encontrar la partícula en una posición dada.\"\"\"\n",
    "    return abs(ket[position])**2\n",
    "\n",
    "def transition_probability(ket1, ket2):\n",
    "    \"\"\" Calcula la probabilidad de transición entre dos vectores ket.\"\"\"\n",
    "    ket1 = normalize_ket(ket1)\n",
    "    ket2 = normalize_ket(ket2)\n",
    "    inner_product = np.vdot(ket1, ket2)\n",
    "    return abs(inner_product)**2\n",
    "\n",
    "# Ejemplo de uso\n",
    "n = 5  # Número de posiciones en la línea\n",
    "ket1 = np.array([1, 1, 0, 0, 0], dtype=complex)\n",
    "ket2 = np.array([0, 1, 1, 0, 0], dtype=complex)\n",
    "\n",
    "ket1 = normalize_ket(ket1)\n",
    "ket2 = normalize_ket(ket2)\n",
    "\n",
    "print(\"Estado 1 normalizado:\", ket1)\n",
    "print(\"Estado 2 normalizado:\", ket2)\n",
    "print(\"Probabilidad de encontrar la partícula en x1:\", probability_at_position(ket1, 1))\n",
    "print(\"Probabilidad de transición de ket1 a ket2:\", transition_probability(ket1, ket2))"
   ]
  },
  {
   "cell_type": "markdown",
   "metadata": {},
   "source": []
  }
 ],
 "metadata": {
  "kernelspec": {
   "display_name": ".venv",
   "language": "python",
   "name": "python3"
  },
  "language_info": {
   "name": "python",
   "version": "3.11.6"
  }
 },
 "nbformat": 4,
 "nbformat_minor": 2
}
