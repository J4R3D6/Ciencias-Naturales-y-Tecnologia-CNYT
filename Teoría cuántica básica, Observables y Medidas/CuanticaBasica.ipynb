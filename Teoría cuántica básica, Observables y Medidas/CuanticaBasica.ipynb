{
 "cells": [
  {
   "cell_type": "markdown",
   "metadata": {},
   "source": [
    "# Simule el primer sistema cuántico descrito en la sección 4.1.\n",
    "\n",
    "El sistema consiste en una partícula confinada a un conjunto discreto de posiciones en una línea. El simulador debe permitir especificar el número de posiciones y un vector ket de estado asignando las amplitudes.\n",
    "\n",
    "1. El sistema debe calcular la probabilidad de encontrarlo en una posición en particular.\n",
    "\n",
    "2. El sistema si se le da otro vector Ket debe buscar la probabilidad de transitar del primer vector al segundo."
   ]
  },
  {
   "cell_type": "code",
   "execution_count": 17,
   "metadata": {},
   "outputs": [
    {
     "name": "stdout",
     "output_type": "stream",
     "text": [
      "ingrese los vectores\n"
     ]
    },
    {
     "name": "stdout",
     "output_type": "stream",
     "text": [
      "Estado 1 normalizado: [0.70710678+0.j 0.70710678+0.j 0.        +0.j 0.        +0.j\n",
      " 0.        +0.j]\n",
      "Estado 2 normalizado: [0.        +0.j 0.70710678+0.j 0.70710678+0.j 0.        +0.j\n",
      " 0.        +0.j]\n",
      "ingrese la posicion a calcular\n",
      "Probabilidad de encontrar la partícula en x1: 0.4999999999999999\n",
      "Probabilidad de transición de ket1 a ket2: 0.2499999999999999\n"
     ]
    }
   ],
   "source": [
    "import numpy as np\n",
    "\n",
    "def normalize(ket):\n",
    "    \"\"\" Normaliza un vector ket.\"\"\"\n",
    "    norm = np.linalg.norm(ket)\n",
    "    return ket / norm if norm != 0 else ket\n",
    "\n",
    "def probabilidad_en_posicion(ket, position):\n",
    "    amplitude = ket[position]  # Quitamos el [0]\n",
    "    probability = np.abs(amplitude)**2\n",
    "    return probability\n",
    "\n",
    "def probabilidad_transitoria(ket1, ket2):\n",
    "    inner_product = np.dot(bra(ket2), ket1)\n",
    "    probability = np.abs(inner_product)**2\n",
    "    return probability\n",
    "\n",
    "def bra(ket):\n",
    "    return np.conjugate(ket.T)\n",
    "\n",
    "print(\"ingrese los vectores\")\n",
    "v1= list(map(int,input(\"vector\").split()))\n",
    "v2= list(map(int,input(\"vector\").split()))\n",
    "ket1 = np.array(v1, dtype=complex)\n",
    "ket2 = np.array(v2, dtype=complex)\n",
    "ket1 = normalize(ket1)\n",
    "ket2 = normalize(ket2)\n",
    "\n",
    "print(\"Estado 1 normalizado:\", ket1)\n",
    "print(\"Estado 2 normalizado:\", ket2)\n",
    "print(\"ingrese la posicion a calcular\")\n",
    "position= int(input(\"posicion\"))\n",
    "print(\"Probabilidad de encontrar la partícula en x1:\", probabilidad_en_posicion(ket1, position))\n",
    "print(\"Probabilidad de transición de ket1 a ket2:\", probabilidad_transitoria(ket1, ket2))"
   ]
  },
  {
   "cell_type": "markdown",
   "metadata": {},
   "source": [
    "# Complete los retos de programación del capítulo 4.\n",
    "1. Amplitud de transición. El sistema puede recibir dos vectores y calcular la probabilidad de transitar de el uno al otro después de hacer la observación"
   ]
  },
  {
   "cell_type": "code",
   "execution_count": null,
   "metadata": {},
   "outputs": [],
   "source": [
    "import numpy as np\n",
    "\n",
    "def normalize(ket):\n",
    "    \"\"\" Normaliza un vector ket.\"\"\"\n",
    "    norm = np.linalg.norm(ket)\n",
    "    return ket / norm if norm != 0 else ket\n",
    "\n",
    "def probabilidad_transitoria(ket1, ket2):\n",
    "    inner_product = np.dot(bra(ket2), ket1)\n",
    "    probability = np.abs(inner_product)**2\n",
    "    return probability\n",
    "\n",
    "def bra(ket):\n",
    "    return np.conjugate(ket.T)\n",
    "\n",
    "print(\"ingrese los vectores\")\n",
    "v1= list(map(int,input(\"vector\").split()))\n",
    "v2= list(map(int,input(\"vector\").split()))\n",
    "ket1 = np.array(v1, dtype=complex)\n",
    "ket2 = np.array(v2, dtype=complex)\n",
    "ket1 = normalize(ket1)\n",
    "ket2 = normalize(ket2)\n",
    "print(\"Probabilidad de transición de ket1 a ket2:\", probabilidad_transitoria(ket1, ket2))"
   ]
  },
  {
   "cell_type": "markdown",
   "metadata": {},
   "source": [
    "2. Ahora con una matriz que describa un observable y un vector ket, el sistema revisa que la matriz sea hermitiana, y si lo es, calcula la media y la varianza del observable en el estado dado."
   ]
  },
  {
   "cell_type": "code",
   "execution_count": null,
   "metadata": {},
   "outputs": [],
   "source": [
    "import numpy as np\n",
    "\n",
    "def es_hermitiana(matrix):\n",
    "    return np.allclose(matrix, np.conjugate(matrix.T))\n",
    "\n",
    "def media_observable(matrix, ket):\n",
    "    bra = np.conjugate(ket.T)\n",
    "    return np.real(np.dot(bra, np.dot(matrix, ket)))\n",
    "\n",
    "def varianza_observable(matrix, ket):\n",
    "    mean = media_observable(matrix, ket)\n",
    "    identidad = np.eye(matrix.shape[0])\n",
    "    delta = matrix - mean * identidad\n",
    "    var = media_observable(np.dot(delta, delta), ket)\n",
    "    return var\n",
    "\n",
    "\n",
    "print(\"Ingrese la matriz (fila por fila, separados por espacios.\")\n",
    "rows = int(input(\"Número de filas/columnas: \"))\n",
    "matriz = []\n",
    "for i in range(rows):\n",
    "    fila = list(map(complex, input(f\"Fila\").split()))\n",
    "    matriz.append(fila)\n",
    "matriz = np.array(matriz)\n",
    "\n",
    "print(\"Ingrese el vector ket.\")\n",
    "ket = list(map(complex, input().split()))\n",
    "ket = np.array(ket, dtype=complex)\n",
    "\n",
    "print(\"\\nMatriz observable:\")\n",
    "print(matriz)\n",
    "print(\"Ket:\", ket)\n",
    "\n",
    "if es_hermitiana(matriz):\n",
    "    print(\"La matriz es hermitiana.\")\n",
    "    media = media_observable(matriz, ket)\n",
    "    varianza = varianza_observable(matriz, ket)\n",
    "    print(f\"Media del observable: {media}\")\n",
    "    print(f\"Varianza del observable: {varianza}\")\n",
    "else:\n",
    "    print(\"La matriz NO es hermitiana.\")\n"
   ]
  },
  {
   "cell_type": "markdown",
   "metadata": {},
   "source": [
    "3. El sistema calcula los valores propios del observable y la probabilidad de que el sistema transite a alguno de los vectores propios después de la observación."
   ]
  },
  {
   "cell_type": "code",
   "execution_count": null,
   "metadata": {},
   "outputs": [],
   "source": [
    "import numpy as np\n",
    "\n",
    "def valores_propios_y_probabilidades(matrix, ket):\n",
    "    eigvals, eigvecs = np.linalg.eigh(matrix)\n",
    "    probabilidades = []\n",
    "    for vec in eigvecs.T:\n",
    "        amp = np.dot(np.conjugate(vec.T), ket)\n",
    "        prob = np.abs(amp)**2\n",
    "        probabilidades.append(prob)\n",
    "    return eigvals, probabilidades\n",
    "\n",
    "print(\"Ingrese la matriz observable (fila por fila, separados por espacios.\")\n",
    "rows = int(input(\"Número de filas/columnas: \"))\n",
    "observable = []\n",
    "for i in range(rows):\n",
    "    fila = list(map(complex, input(f\"Fila\").split()))\n",
    "    observable.append(fila)\n",
    "observable = np.array(observable)\n",
    "\n",
    "print(\"Ingrese el vector ket (ejemplo: 1 0):\")\n",
    "ket = list(map(complex, input().split()))\n",
    "ket = np.array(ket, dtype=complex)\n",
    "\n",
    "eigvals, probs = valores_propios_y_probabilidades(observable, ket)\n",
    "print(\"\\nValores propios del observable:\", eigvals)\n",
    "print(\"Probabilidades de transitar a cada autovector:\")\n",
    "for i, p in enumerate(probs):\n",
    "    print(f\"  Autovector {i+1}: {p}\")\n",
    "\n"
   ]
  },
  {
   "cell_type": "markdown",
   "metadata": {},
   "source": [
    "4. Se considera la dinámica del sistema. Ahora con una serie de matrices Un el sistema calcula el estado final a partir de un estado inicial."
   ]
  },
  {
   "cell_type": "code",
   "execution_count": null,
   "metadata": {},
   "outputs": [],
   "source": [
    "import numpy as np\n",
    "\n",
    "def es_unitaria(U):\n",
    "    identidad = np.eye(U.shape[0])\n",
    "    return np.allclose(np.dot(np.conjugate(U.T), U), identidad)\n",
    "\n",
    "def evolucion_estado(U, ket):\n",
    "    return np.dot(U, ket)\n",
    "\n",
    "# Inputs\n",
    "print(\"Ingrese la matriz unitaria (fila por fila, separados por espacios\")\n",
    "rows = int(input(\"Número de filas/columnas: \"))\n",
    "U = []\n",
    "for i in range(rows):\n",
    "    fila = list(map(complex, input(f\"Fila\").split()))\n",
    "    U.append(fila)\n",
    "U = np.array(U)\n",
    "\n",
    "print(\"Ingrese el vector ket inicial\")\n",
    "ket = list(map(complex, input().split()))\n",
    "ket = np.array(ket, dtype=complex)\n",
    "\n",
    "# Cálculo\n",
    "if es_unitaria(U):\n",
    "    print(\"La matriz es unitaria.\")\n",
    "    final_state = evolucion_estado(U, ket)\n",
    "    print(\"Estado final:\", final_state)\n",
    "else:\n",
    "    print(\"La matriz NO es unitaria.\")\n"
   ]
  },
  {
   "cell_type": "markdown",
   "metadata": {},
   "source": [
    "## Realice los siguientes problemas e incluyalos como ejemplos\n",
    "Modele en su librería los problemas"
   ]
  },
  {
   "cell_type": "markdown",
   "metadata": {},
   "source": [
    "### Exercise 4.3.1"
   ]
  },
  {
   "cell_type": "code",
   "execution_count": null,
   "metadata": {},
   "outputs": [],
   "source": [
    "import numpy as np\n",
    "\n",
    "spin_up = np.array([[1], [0]])\n",
    "\n",
    "# Definimos la matriz del operador Sx (sin constante h_bar/2 por simplicidad)\n",
    "Sx = 0.5 * np.array([[0, 1],\n",
    "                    [1, 0]])\n",
    "valoresP, vectoresP = np.linalg.eigh(Sx)\n",
    "\n",
    "print(\"Valores propiosde Sx:\")\n",
    "print(valoresP)\n",
    "\n",
    "print(\"\\nVectores propiosde Sx:\")\n",
    "print(vectoresP)\n",
    "\n",
    "# Normalización y representación clara\n",
    "print(\"\\nPosibles estados después de la medición:\")\n",
    "for i in range(len(valoresP)):\n",
    "    print(f\"Estado {i+1}:\")\n",
    "    print(vectoresP[:, i])\n",
    "\n",
    "print(\"======================================\")\n",
    "resulting_state = np.dot(Sx, spin_up)\n",
    "\n",
    "print(\"Estado resultante después de aplicar Sx:\")\n",
    "print(resulting_state)\n",
    "probability = np.abs(np.dot(spin_up.T.conj(), resulting_state))**2\n",
    "print(f\"\\nProbabilidad de seguir en spin up: {probability[0][0]}\")\n",
    "\n"
   ]
  },
  {
   "cell_type": "markdown",
   "metadata": {},
   "source": [
    "### 4.4.1"
   ]
  },
  {
   "cell_type": "code",
   "execution_count": null,
   "metadata": {},
   "outputs": [],
   "source": [
    "import numpy as np\n",
    "\n",
    "U1 = np.array([[0, 1],\n",
    "               [1, 0]])\n",
    "\n",
    "U2 = np.array([[np.sqrt(2)/2, np.sqrt(2)/2],\n",
    "               [np.sqrt(2)/2, -np.sqrt(2)/2]])\n",
    "\n",
    "def es_unitaria(U):\n",
    "    identidad = np.eye(U.shape[0])\n",
    "    return np.allclose(np.dot(U.conj().T, U), identidad)\n",
    "\n",
    "print(\"U1:\")\n",
    "print(U1)\n",
    "print(\"¿U1 es unitaria?\", es_unitaria(U1))\n",
    "\n",
    "print(\"\\n-------------------\")\n",
    "\n",
    "print(\"U2:\")\n",
    "print(U2)\n",
    "print(\"¿U2 es unitaria?\", es_unitaria(U2))\n",
    "\n",
    "print(\"\\n-------------------\")\n",
    "\n",
    "producto = np.dot(U1, U2)\n",
    "print(\"Producto U1 * U2:\")\n",
    "print(producto)\n",
    "print(\"¿El producto es unitario?\", es_unitaria(producto))\n"
   ]
  },
  {
   "cell_type": "markdown",
   "metadata": {},
   "source": [
    "### 4.4.2"
   ]
  },
  {
   "cell_type": "code",
   "execution_count": null,
   "metadata": {},
   "outputs": [],
   "source": [
    "import numpy as np\n",
    "\n",
    "estado1 = np.array([[1], [0], [0], [0]], dtype=complex)\n",
    "\n",
    "U = np.array([\n",
    "    [0, 1/np.sqrt(2), 1/np.sqrt(2), 0],\n",
    "    [1j/np.sqrt(2), 0, 0, 1/np.sqrt(2)],\n",
    "    [1/np.sqrt(2), 0, 0, 1j/np.sqrt(2)],\n",
    "    [0, 1/np.sqrt(2), -1/np.sqrt(2), 0]\n",
    "], dtype=complex)\n",
    "\n",
    "print(\"Matriz Unitaria U:\")\n",
    "print(U)\n",
    "print(\"Estado inicial:\")\n",
    "print(estado1)\n",
    "\n",
    "estado = estado1\n",
    "for i in range(3):\n",
    "    estado = np.dot(U, estado)\n",
    "    print(f\"\\nEstado después del paso {i+1}:\")\n",
    "    print(estado)\n",
    "\n",
    "probability = np.abs(estado[2, 0])**2\n",
    "print(f\"\\nProbabilidad de encontrar la bola en el punto 3: {probability:.4f}\")\n"
   ]
  },
  {
   "cell_type": "markdown",
   "metadata": {},
   "source": [
    "### Desarrolle e incluya en el Github una discusión de los ejercicios 4.5.2 y 4.5.3"
   ]
  },
  {
   "cell_type": "markdown",
   "metadata": {},
   "source": [
    "#### 4.5.2\n",
    "Un sistema de dos particulas con espin tiene dos posibles estados que se dan por espin arriba y espin abajo, ahora generalisando para n particulas va a por el tensor de los diferenes estados teniendo un dimension de 2^n\n",
    "\n",
    "|↑⟩ = |0⟩ (espín arriba)\n",
    "\n",
    "|↓⟩ = |1⟩ (espín abajo)\n",
    "\n",
    "ψ⟩=a00 ∣0⟩ ⊗ ∣0⟩ + a01 ∣0⟩ ⊗ ∣1⟩ + a10​ ∣1⟩ ⊗ ∣0⟩ + a11​ ∣1⟩ ⊗ ∣1⟩"
   ]
  },
  {
   "cell_type": "markdown",
   "metadata": {},
   "source": [
    "#### 4.5.3\n",
    "\n",
    "Un estado es separable si se puede escribir como el producto tensorial de dos vectores individuales, es decir:\n",
    "\n",
    "∣ϕ⟩=∣x0⟩ ⊗ ∣y1⟩ + ∣x1​⟩ ⊗ ∣y1​⟩ = (∣x0⟩+∣x1⟩) ⊗ \n",
    "\n",
    "Esto es claramente un producto tensorial, por lo que sí es separable."
   ]
  }
 ],
 "metadata": {
  "kernelspec": {
   "display_name": ".venv",
   "language": "python",
   "name": "python3"
  },
  "language_info": {
   "codemirror_mode": {
    "name": "ipython",
    "version": 3
   },
   "file_extension": ".py",
   "mimetype": "text/x-python",
   "name": "python",
   "nbconvert_exporter": "python",
   "pygments_lexer": "ipython3",
   "version": "3.13.2"
  }
 },
 "nbformat": 4,
 "nbformat_minor": 2
}
