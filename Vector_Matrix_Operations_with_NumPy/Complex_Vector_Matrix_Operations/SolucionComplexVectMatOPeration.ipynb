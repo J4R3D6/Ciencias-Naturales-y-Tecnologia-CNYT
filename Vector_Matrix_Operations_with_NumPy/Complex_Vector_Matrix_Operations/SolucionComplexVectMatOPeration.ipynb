{
 "cells": [
  {
   "cell_type": "markdown",
   "metadata": {},
   "source": [
    "# Exercises on Complex Vectors and Matrices with Concrete Cases\n",
    "\n",
    "This set of exercises focuses on operations with complex column vectors and complex square matrices, including concrete cases with vectors and matrices written in LaTeX format.\n",
    "\n",
    "## Complex Column Vector Operations"
   ]
  },
  {
   "cell_type": "markdown",
   "metadata": {},
   "source": [
    "### Exercise 1: Sum of Two Complex Vectors\n",
    "Given two complex vectors \n",
    "$ v1 = \\begin{bmatrix} 1 + 2i \\\\ 3 - i \\end{bmatrix} $ \n",
    "and \n",
    "$ v2 = \\begin{bmatrix} 2 - i \\\\ 4 + 2i \\end{bmatrix} $, \n",
    "find their sum."
   ]
  },
  {
   "cell_type": "code",
   "execution_count": null,
   "metadata": {},
   "outputs": [],
   "source": [
    "import numpy as np\n",
    "\n",
    "v1= np.array([[1+2j],[3-1j]])\n",
    "v2 = np.array([[2-1j],[4+2j]])\n",
    "sum_v = v1 + v2\n",
    "print (f\"Vector1\\n[{v1}\")\n",
    "print (f\"Vector2\\n[{v2}\")\n",
    "print(\"==============\")\n",
    "\n",
    "print (f\"Suma de vectores\")\n",
    "print(v1, \"+\\n\",v2)\n",
    "print(\"==============\")\n",
    "print(\"resultado:\\n \",sum_v)"
   ]
  },
  {
   "cell_type": "markdown",
   "metadata": {},
   "source": [
    "### Exercise 2: Negation of a Complex Vector\n",
    "Given a complex vector \n",
    "$ v = \\begin{bmatrix} 2 + 3i \\\\ 1 - 2i \\end{bmatrix} $, \n",
    "find its negation."
   ]
  },
  {
   "cell_type": "code",
   "execution_count": null,
   "metadata": {},
   "outputs": [],
   "source": [
    "import numpy as np\n",
    "v= np.array ([[2+3j],[1-2j]])\n",
    "negacion_v = -v\n",
    "print(f\"Vector \\n{v}\")\n",
    "print(\"===================================\")\n",
    "print(f\"la negación de \\n{v}\\n====================\\n {negacion_v}\")"
   ]
  },
  {
   "cell_type": "markdown",
   "metadata": {},
   "source": [
    "### Exercise 3: Multiplication of a Complex Vector by a Scalar\n",
    "Multiply the complex vector \n",
    "$ v = \\begin{bmatrix} 1 - i \\\\ 2 + 2i \\end{bmatrix} $ \n",
    "by the complex scalar $ 3 + i $."
   ]
  },
  {
   "cell_type": "code",
   "execution_count": null,
   "metadata": {},
   "outputs": [],
   "source": [
    "import numpy as np\n",
    "v= np.array ([[1-1j],[2+2j]])\n",
    "escalar = 3 + 1j\n",
    "mult_es = v * escalar\n",
    "print(f\"Vector \\n{v}\\n Escalar \\n{escalar}\")\n",
    "print(\"=======================\")\n",
    "print(f\"Multiplicacion\\n {mult_es}\")"
   ]
  },
  {
   "cell_type": "markdown",
   "metadata": {},
   "source": [
    "### Exercise 4: Transpose of a Complex Vector\n",
    "Find the transpose of the complex vector \n",
    "$ v = \\begin{bmatrix} 2 - i \\\\ 3 + 4i \\end{bmatrix} $."
   ]
  },
  {
   "cell_type": "code",
   "execution_count": null,
   "metadata": {},
   "outputs": [],
   "source": [
    "import numpy as np\n",
    "v = np.array([[2-1j],[3+4j]])\n",
    "transpuesta_v = v.T\n",
    "print(f\"la transpuesta de\\n{v}\\nes:\\n{transpuesta_v}\")"
   ]
  },
  {
   "cell_type": "markdown",
   "metadata": {},
   "source": [
    "### Exercise 5: Conjugate of a Complex Vector\n",
    "Compute the conjugate of the complex vector \n",
    "$ v = \\begin{bmatrix} 1 + i \\\\ 2 - 3i \\end{bmatrix} $."
   ]
  },
  {
   "cell_type": "code",
   "execution_count": null,
   "metadata": {},
   "outputs": [],
   "source": [
    "import numpy as np\n",
    "\n",
    "v = np.array([[1+1j],[2-3j]])\n",
    "conjugado_v = np.conjugate(v)\n",
    "print(f\"el conjugado de\\n{v}\\nes:\\n{conjugado_v}\")"
   ]
  },
  {
   "cell_type": "markdown",
   "metadata": {},
   "source": [
    "### Exercise 6: Adjunct (Conjugate Transpose) of a Complex Vector\n",
    "Find the adjunct (or conjugate transpose) of the complex vector \n",
    "$ v = \\begin{bmatrix} 1 - 2i \\\\ 3 + i \\end{bmatrix} $."
   ]
  },
  {
   "cell_type": "code",
   "execution_count": null,
   "metadata": {},
   "outputs": [],
   "source": [
    "import numpy as np\n",
    "v = np.array([[1-2j],[3+1j]])\n",
    "adjunct_v = v.T.conj()\n",
    "print(f\"la adjunta de:\\n{v}\\nes:\\n{adjunct_v}\")"
   ]
  },
  {
   "cell_type": "markdown",
   "metadata": {},
   "source": [
    "### Exercise 7: Sum of Two Complex Matrices\n",
    "Given two complex matrices \n",
    "$ m1 = \\begin{bmatrix} 1 + i & 2 - i \\\\ 3 + 2i & 4 \\end{bmatrix} $\n",
    "and \n",
    "$ m2 = \\begin{bmatrix} 2 - 3i & 1 \\\\ i & 2 + 2i \\end{bmatrix} $, \n",
    "calculate their sum."
   ]
  },
  {
   "cell_type": "code",
   "execution_count": null,
   "metadata": {},
   "outputs": [],
   "source": [
    "m1 = np.array([[1+1j,2-1j],[3+2j,4]])\n",
    "m2 = np.array([[2-3j,1],[1j,2+2j]])\n",
    "print(f\"Matriz 1 {m1}\")\n",
    "print(f\"================\")\n",
    "print(f\"Matriz 2 {m2}\")\n",
    "print(f\"================\")\n",
    "suma = m1 + m2\n",
    "print(f\"la suma de las matrices es\\n{suma}\")"
   ]
  },
  {
   "cell_type": "markdown",
   "metadata": {},
   "source": [
    "\n",
    "### Exercise 8: Negation of a Complex Matrix\n",
    "Find the negation of the complex matrix \n",
    "$ m = \\begin{bmatrix} 2 + i & 3 \\\\ 1 - i & 2 + 2i \\end{bmatrix} $."
   ]
  },
  {
   "cell_type": "code",
   "execution_count": null,
   "metadata": {},
   "outputs": [],
   "source": [
    "m1 = np.array([[2+1j,3],[1-1j,2+2j]])\n",
    "neg = -m1\n",
    "\n",
    "print(f\"la negación de la matriz \\n{m1}\\nes:\\n{neg}\")"
   ]
  },
  {
   "cell_type": "markdown",
   "metadata": {},
   "source": [
    "\n",
    "### Exercise 9: Multiplication of a Complex Matrix by a Scalar\n",
    "Multiply the complex matrix \n",
    "$ m = \\begin{bmatrix} 1 - i & 2 \\\\ 3 + i & 4 - 2i \\end{bmatrix} $ \n",
    "by the complex scalar $ 2 + 3i $."
   ]
  },
  {
   "cell_type": "code",
   "execution_count": null,
   "metadata": {},
   "outputs": [],
   "source": [
    "import numpy as np\n",
    "m = np.array([[1-1j,2],[3+1j,4-2j]])\n",
    "escalar = 2 + 3j\n",
    "mult = m * escalar\n",
    "print(f\"Matriz \\n {m}\")\n",
    "print(\"======================\")\n",
    "print(f\"Matriz \\n {escalar}\")\n",
    "print(\"======================\")\n",
    "print(f\"multiplicacion:\\n{mult}\")"
   ]
  },
  {
   "cell_type": "markdown",
   "metadata": {},
   "source": [
    "\n",
    "### Exercise 10: Conjugate of a Complex Matrix\n",
    "Compute the conjugate of the complex matrix \n",
    "$ m = \\begin{bmatrix} 1 + i & 2 \\\\ 3 - i & 4 + 2i \\end{bmatrix} $."
   ]
  },
  {
   "cell_type": "code",
   "execution_count": null,
   "metadata": {},
   "outputs": [],
   "source": [
    "import numpy as np\n",
    "m = np.array([[1+1j,2],[3-1j,4+2j]])\n",
    "conj = np.conjugate(m)\n",
    "print(f\"Matriz \\n {m}\")\n",
    "print(\"======================\")\n",
    "print(f\"conjugado:\\n{conj}\")"
   ]
  },
  {
   "cell_type": "markdown",
   "metadata": {},
   "source": [
    "\n",
    "### Exercise 11: Transpose of a Complex Matrix\n",
    "Find the transpose of the complex matrix \n",
    "$ m = \\begin{bmatrix} 1 - i & 2 + 2i \\\\ 3 & 4 - i \\end{bmatrix} $."
   ]
  },
  {
   "cell_type": "code",
   "execution_count": null,
   "metadata": {},
   "outputs": [],
   "source": [
    "import numpy as np\n",
    "m = np.array([[1-1j,2+2j],[3,4-1j]])\n",
    "transp = m.T\n",
    "print(f\"Matriz \\n {m}\")\n",
    "print(\"======================\")\n",
    "print(f\"transpuesta:\\n{transp}\")"
   ]
  },
  {
   "cell_type": "markdown",
   "metadata": {},
   "source": [
    "\n",
    "### Exercise 12: Adjunct (Conjugate Transpose) of a Complex Matrix\n",
    "Calculate the adjunct (or conjugate transpose) of the complex matrix \n",
    "$ m = \\begin{bmatrix} 1 + 2i & 3 - i \\\\ 4 & 5 + i \\end{bmatrix} $."
   ]
  },
  {
   "cell_type": "code",
   "execution_count": null,
   "metadata": {},
   "outputs": [],
   "source": [
    "import numpy as np\n",
    "m = np.array([[1-1j,2+2j],[3,4-1j]])\n",
    "adjunct = m.T.conj()\n",
    "print(f\"Matriz \\n {m}\")\n",
    "print(\"======================\")\n",
    "print(f\"adjunta:\\n{adjunct}\")"
   ]
  },
  {
   "cell_type": "markdown",
   "metadata": {},
   "source": [
    "\n",
    "### Exercise 13: Checking the Dimensions of a Matrix\n",
    "Determine the dimensions of the complex matrix \n",
    "$ m = \\begin{bmatrix} 1 - i & 2 \\\\ 3 + 2i & 4 - i \\end{bmatrix} $."
   ]
  },
  {
   "cell_type": "code",
   "execution_count": null,
   "metadata": {},
   "outputs": [],
   "source": [
    "m = np.array([[1-1j,2],[3+2j,4-1j]])\n",
    "\n",
    "print(f\"la dimensión de la matriz\\n{m}\\nes:\\n{m.shape}\")"
   ]
  },
  {
   "cell_type": "markdown",
   "metadata": {},
   "source": [
    "### Exercise 14: Multiplying a Complex Square Matrix by a Complex Column Vector\n",
    "Multiply the complex square matrix \n",
    "$ m = \\begin{bmatrix} 1 + i & 2 - i \\\\ 3 & 4 + i \\end{bmatrix} $ \n",
    "by the complex column vector \n",
    "$ v = \\begin{bmatrix} 2 - i \\\\ 1 + 3i \\end{bmatrix} $."
   ]
  },
  {
   "cell_type": "code",
   "execution_count": null,
   "metadata": {},
   "outputs": [],
   "source": [
    "m = np.array([[1+1j,2-1j],[3,4+1j]])\n",
    "v = np.array([[2-1j],[1+3j]])\n",
    "mult = np.dot(m,v)\n",
    "\n",
    "print(f\"Matriz \\n {m}\")\n",
    "print(\"======================\")\n",
    "print(f\"Vector \\n {v}\")\n",
    "print(\"======================\")\n",
    "print(f\"multiplicacion:\\n{mult}\")"
   ]
  }
 ],
 "metadata": {
  "kernelspec": {
   "display_name": ".venv",
   "language": "python",
   "name": "python3"
  },
  "language_info": {
   "codemirror_mode": {
    "name": "ipython",
    "version": 3
   },
   "file_extension": ".py",
   "mimetype": "text/x-python",
   "name": "python",
   "nbconvert_exporter": "python",
   "pygments_lexer": "ipython3",
   "version": "3.11.6"
  }
 },
 "nbformat": 4,
 "nbformat_minor": 2
}
